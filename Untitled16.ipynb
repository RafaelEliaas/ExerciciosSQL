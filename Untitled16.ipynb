{
  "nbformat": 4,
  "nbformat_minor": 0,
  "metadata": {
    "colab": {
      "provenance": []
    },
    "kernelspec": {
      "name": "python3",
      "display_name": "Python 3"
    },
    "language_info": {
      "name": "python"
    }
  },
  "cells": [
    {
      "cell_type": "markdown",
      "source": [
        "Query 01: Criar a tabela de clientes."
      ],
      "metadata": {
        "id": "sIPZzdTjbX3w"
      }
    },
    {
      "cell_type": "code",
      "execution_count": null,
      "metadata": {
        "id": "ul0if9oIaFqz"
      },
      "outputs": [],
      "source": [
        "CREATE TABLE clientes (\n",
        "    id BIGINT,\n",
        "    idade BIGINT,\n",
        "    sexo STRING,\n",
        "    dependentes BIGINT,\n",
        "    escolaridade STRING,\n",
        "    tipo_cartao STRING,\n",
        "    limite_credito DOUBLE,\n",
        "    valor_transacoes_12m DOUBLE,\n",
        "    qtd_transacoes_12m BIGINT\n",
        ");"
      ]
    },
    {
      "cell_type": "markdown",
      "source": [
        "Query 02: Excluir a tabela."
      ],
      "metadata": {
        "id": "7ePN3OlKdE2e"
      }
    },
    {
      "cell_type": "code",
      "source": [
        "DROP TABLE clientes;"
      ],
      "metadata": {
        "id": "hLhO8nBLdI6I"
      },
      "execution_count": null,
      "outputs": []
    },
    {
      "cell_type": "markdown",
      "source": [
        "Query 03: inserir dados na tabela."
      ],
      "metadata": {
        "id": "gMEjIKzLdOnc"
      }
    },
    {
      "cell_type": "code",
      "source": [
        "INSERT INTO clientes VALUES (000001, 45, \"M\", 1,\"Ensino Médio\", \"Blue\", 12691.06, 1144.65, 42);\n",
        "INSERT INTO clientes VALUES (000002, 65, \"F\", 1,\"Ensino Superior\", \"Gold\", 29691.06, 1544.65, 16);\n",
        "INSERT INTO clientes VALUES (000003, 24, \"M\", 1,\"Ensino Superior\", \"Platinum\", 1000000.00, 40000.65, 13);"
      ],
      "metadata": {
        "id": "V8-jIyBEdTl0"
      },
      "execution_count": null,
      "outputs": []
    },
    {
      "cell_type": "markdown",
      "source": [
        "Query 04: remover os dados da mulheres da tabela."
      ],
      "metadata": {
        "id": "Diex7H3Zfhi0"
      }
    },
    {
      "cell_type": "code",
      "source": [
        "DELETE FROM clientes WHERE sexo = \"F\";"
      ],
      "metadata": {
        "id": "qxtZYukjfmtP"
      },
      "execution_count": null,
      "outputs": []
    },
    {
      "cell_type": "markdown",
      "source": [
        "DML"
      ],
      "metadata": {
        "id": "ddzvPlspgFEv"
      }
    },
    {
      "cell_type": "markdown",
      "source": [
        "Linguagem de manipulação de dados, do inglês Data Manipulation Language ou DML são instruções para manipular (selecionar, filtrar, agregar, limitar, etc). Os dados armazenados em tabelas"
      ],
      "metadata": {
        "id": "T7PTc3begLAJ"
      }
    },
    {
      "cell_type": "markdown",
      "source": [
        "Query 01: selecionar o id, a idade e o limite de crédito dos clientes homens da tabela de clientes, ordenados por idade de maneira decrescente"
      ],
      "metadata": {
        "id": "8wQLtW9Wgoa8"
      }
    },
    {
      "cell_type": "code",
      "source": [
        "SELECT id, idade, limite_credito FROM clientes WHERE sexo = \"M\" ORDER BY idade DESC;"
      ],
      "metadata": {
        "id": "jaQtPwPig5eX"
      },
      "execution_count": null,
      "outputs": []
    },
    {
      "cell_type": "markdown",
      "source": [
        "Query 02: selecionar a média da idade dos clientes por sexo da tabela clientes"
      ],
      "metadata": {
        "id": "NTae4QIDhI65"
      }
    },
    {
      "cell_type": "code",
      "source": [
        "SELECT sexo, AVG(idade) AS 'Media_idade_por_sexo' FROM clientes GROUP BY sexo;"
      ],
      "metadata": {
        "id": "rbSDYZDihRus"
      },
      "execution_count": null,
      "outputs": []
    }
  ]
}